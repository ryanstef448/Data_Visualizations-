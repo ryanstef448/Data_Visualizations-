import pandas as pd
import numpy as np
import matplotlib.pyplot as plt


df = pd.read_csv('C:/py/NCAA_Championship_Data_1980.csv',header=None,names=['Row','Year','Champion (Record)','Coach','Score','Runner-Up','Site','State','Overtime'])

# Reverse the rows so the data starts from 1980.  Will look better visually as a timeline from 1980 to present 
df = df.iloc[::-1]

# Display the resulting DataFrame
#print(df)

# Splitting the 'column_with_values' into two new columns
df[['Winning Score', 'Losing Score']] = df['Score'].str.split('-', expand=True)

# Convert the new columns to integers if needed
df['Winning Score'] = df['Winning Score'].astype(int)
df['Losing Score'] = df['Losing Score'].astype(int)

# Set the width of the bars
bar_width = 0.3

# Create an index for the bars
index = np.arange(len(df['Year']))

# Create a bar chart for winning and losing scores
bar_width = 0.35
index = np.arange(len(df['Year']))

# Plotting the bar graph
plt.figure(figsize=(20, 6))
plt.bar(index, df['Winning Score'], bar_width, label='Winning Scores', color='green', alpha=0.6)
plt.bar(index + bar_width, df['Losing Score'], bar_width, label='Losing Scores', color='red', alpha=0.6)


# Adding titles and labels
plt.title('NCAA Mens Div 1 Winning and Losing Scores since 1980')
plt.xlabel('Year')
plt.ylabel('Scores')
plt.xticks(index + bar_width / 2, df['Year'], rotation=45)
plt.legend()
plt.grid(axis='y')

# Show the plot
plt.tight_layout()
plt.show()